{
  "nbformat": 4,
  "nbformat_minor": 0,
  "metadata": {
    "colab": {
      "name": "Linear Regresssion Project.ipynb",
      "provenance": []
    },
    "kernelspec": {
      "name": "python3",
      "display_name": "Python 3"
    },
    "language_info": {
      "name": "python"
    }
  },
  "cells": [
    {
      "cell_type": "code",
      "execution_count": 27,
      "metadata": {
        "id": "nDRC8sk4yYpw"
      },
      "outputs": [],
      "source": [
        "import numpy as np\n",
        "import pandas as pd\n",
        "import matplotlib.pyplot as plt\n",
        "import seaborn as sns"
      ]
    },
    {
      "cell_type": "code",
      "source": [
        "data=pd.read_csv(\"/content/gpa_study_hours.csv\")\n",
        "data.head()"
      ],
      "metadata": {
        "colab": {
          "base_uri": "https://localhost:8080/",
          "height": 206
        },
        "id": "FU5OvRKd1Qq3",
        "outputId": "882ffdb2-4a5f-41e0-cbfe-c938a0373e10"
      },
      "execution_count": 28,
      "outputs": [
        {
          "output_type": "execute_result",
          "data": {
            "text/html": [
              "\n",
              "  <div id=\"df-463b0cca-cd54-445b-a18c-693b81328d65\">\n",
              "    <div class=\"colab-df-container\">\n",
              "      <div>\n",
              "<style scoped>\n",
              "    .dataframe tbody tr th:only-of-type {\n",
              "        vertical-align: middle;\n",
              "    }\n",
              "\n",
              "    .dataframe tbody tr th {\n",
              "        vertical-align: top;\n",
              "    }\n",
              "\n",
              "    .dataframe thead th {\n",
              "        text-align: right;\n",
              "    }\n",
              "</style>\n",
              "<table border=\"1\" class=\"dataframe\">\n",
              "  <thead>\n",
              "    <tr style=\"text-align: right;\">\n",
              "      <th></th>\n",
              "      <th>gpa</th>\n",
              "      <th>study_hours</th>\n",
              "    </tr>\n",
              "  </thead>\n",
              "  <tbody>\n",
              "    <tr>\n",
              "      <th>0</th>\n",
              "      <td>4.00</td>\n",
              "      <td>10.0</td>\n",
              "    </tr>\n",
              "    <tr>\n",
              "      <th>1</th>\n",
              "      <td>3.80</td>\n",
              "      <td>25.0</td>\n",
              "    </tr>\n",
              "    <tr>\n",
              "      <th>2</th>\n",
              "      <td>3.93</td>\n",
              "      <td>45.0</td>\n",
              "    </tr>\n",
              "    <tr>\n",
              "      <th>3</th>\n",
              "      <td>3.40</td>\n",
              "      <td>10.0</td>\n",
              "    </tr>\n",
              "    <tr>\n",
              "      <th>4</th>\n",
              "      <td>3.20</td>\n",
              "      <td>4.0</td>\n",
              "    </tr>\n",
              "  </tbody>\n",
              "</table>\n",
              "</div>\n",
              "      <button class=\"colab-df-convert\" onclick=\"convertToInteractive('df-463b0cca-cd54-445b-a18c-693b81328d65')\"\n",
              "              title=\"Convert this dataframe to an interactive table.\"\n",
              "              style=\"display:none;\">\n",
              "        \n",
              "  <svg xmlns=\"http://www.w3.org/2000/svg\" height=\"24px\"viewBox=\"0 0 24 24\"\n",
              "       width=\"24px\">\n",
              "    <path d=\"M0 0h24v24H0V0z\" fill=\"none\"/>\n",
              "    <path d=\"M18.56 5.44l.94 2.06.94-2.06 2.06-.94-2.06-.94-.94-2.06-.94 2.06-2.06.94zm-11 1L8.5 8.5l.94-2.06 2.06-.94-2.06-.94L8.5 2.5l-.94 2.06-2.06.94zm10 10l.94 2.06.94-2.06 2.06-.94-2.06-.94-.94-2.06-.94 2.06-2.06.94z\"/><path d=\"M17.41 7.96l-1.37-1.37c-.4-.4-.92-.59-1.43-.59-.52 0-1.04.2-1.43.59L10.3 9.45l-7.72 7.72c-.78.78-.78 2.05 0 2.83L4 21.41c.39.39.9.59 1.41.59.51 0 1.02-.2 1.41-.59l7.78-7.78 2.81-2.81c.8-.78.8-2.07 0-2.86zM5.41 20L4 18.59l7.72-7.72 1.47 1.35L5.41 20z\"/>\n",
              "  </svg>\n",
              "      </button>\n",
              "      \n",
              "  <style>\n",
              "    .colab-df-container {\n",
              "      display:flex;\n",
              "      flex-wrap:wrap;\n",
              "      gap: 12px;\n",
              "    }\n",
              "\n",
              "    .colab-df-convert {\n",
              "      background-color: #E8F0FE;\n",
              "      border: none;\n",
              "      border-radius: 50%;\n",
              "      cursor: pointer;\n",
              "      display: none;\n",
              "      fill: #1967D2;\n",
              "      height: 32px;\n",
              "      padding: 0 0 0 0;\n",
              "      width: 32px;\n",
              "    }\n",
              "\n",
              "    .colab-df-convert:hover {\n",
              "      background-color: #E2EBFA;\n",
              "      box-shadow: 0px 1px 2px rgba(60, 64, 67, 0.3), 0px 1px 3px 1px rgba(60, 64, 67, 0.15);\n",
              "      fill: #174EA6;\n",
              "    }\n",
              "\n",
              "    [theme=dark] .colab-df-convert {\n",
              "      background-color: #3B4455;\n",
              "      fill: #D2E3FC;\n",
              "    }\n",
              "\n",
              "    [theme=dark] .colab-df-convert:hover {\n",
              "      background-color: #434B5C;\n",
              "      box-shadow: 0px 1px 3px 1px rgba(0, 0, 0, 0.15);\n",
              "      filter: drop-shadow(0px 1px 2px rgba(0, 0, 0, 0.3));\n",
              "      fill: #FFFFFF;\n",
              "    }\n",
              "  </style>\n",
              "\n",
              "      <script>\n",
              "        const buttonEl =\n",
              "          document.querySelector('#df-463b0cca-cd54-445b-a18c-693b81328d65 button.colab-df-convert');\n",
              "        buttonEl.style.display =\n",
              "          google.colab.kernel.accessAllowed ? 'block' : 'none';\n",
              "\n",
              "        async function convertToInteractive(key) {\n",
              "          const element = document.querySelector('#df-463b0cca-cd54-445b-a18c-693b81328d65');\n",
              "          const dataTable =\n",
              "            await google.colab.kernel.invokeFunction('convertToInteractive',\n",
              "                                                     [key], {});\n",
              "          if (!dataTable) return;\n",
              "\n",
              "          const docLinkHtml = 'Like what you see? Visit the ' +\n",
              "            '<a target=\"_blank\" href=https://colab.research.google.com/notebooks/data_table.ipynb>data table notebook</a>'\n",
              "            + ' to learn more about interactive tables.';\n",
              "          element.innerHTML = '';\n",
              "          dataTable['output_type'] = 'display_data';\n",
              "          await google.colab.output.renderOutput(dataTable, element);\n",
              "          const docLink = document.createElement('div');\n",
              "          docLink.innerHTML = docLinkHtml;\n",
              "          element.appendChild(docLink);\n",
              "        }\n",
              "      </script>\n",
              "    </div>\n",
              "  </div>\n",
              "  "
            ],
            "text/plain": [
              "    gpa  study_hours\n",
              "0  4.00         10.0\n",
              "1  3.80         25.0\n",
              "2  3.93         45.0\n",
              "3  3.40         10.0\n",
              "4  3.20          4.0"
            ]
          },
          "metadata": {},
          "execution_count": 28
        }
      ]
    },
    {
      "cell_type": "code",
      "source": [
        "data.info() #so we know that the data has no missing values."
      ],
      "metadata": {
        "colab": {
          "base_uri": "https://localhost:8080/"
        },
        "id": "WtvmBlZu1hhW",
        "outputId": "175abfcd-762e-401f-9085-5368845f7185"
      },
      "execution_count": 29,
      "outputs": [
        {
          "output_type": "stream",
          "name": "stdout",
          "text": [
            "<class 'pandas.core.frame.DataFrame'>\n",
            "RangeIndex: 193 entries, 0 to 192\n",
            "Data columns (total 2 columns):\n",
            " #   Column       Non-Null Count  Dtype  \n",
            "---  ------       --------------  -----  \n",
            " 0   gpa          193 non-null    float64\n",
            " 1   study_hours  193 non-null    float64\n",
            "dtypes: float64(2)\n",
            "memory usage: 3.1 KB\n"
          ]
        }
      ]
    },
    {
      "cell_type": "code",
      "source": [
        "data.shape"
      ],
      "metadata": {
        "colab": {
          "base_uri": "https://localhost:8080/"
        },
        "id": "IcI0MPMS1nQI",
        "outputId": "6a8b5d8d-d5ad-4975-8066-c7cf2280f939"
      },
      "execution_count": 30,
      "outputs": [
        {
          "output_type": "execute_result",
          "data": {
            "text/plain": [
              "(193, 2)"
            ]
          },
          "metadata": {},
          "execution_count": 30
        }
      ]
    },
    {
      "cell_type": "code",
      "source": [
        "x=data.iloc[:,0].values\n",
        "y=data.iloc[:,-1].values"
      ],
      "metadata": {
        "id": "1LPAzLJ2DubE"
      },
      "execution_count": 45,
      "outputs": []
    },
    {
      "cell_type": "code",
      "source": [
        "plt.scatter(x,y)\n",
        "plt.title(\"Study Hours and the Grade\")\n",
        "plt.xlabel(\"Study Hours\")\n",
        "plt.ylabel(\"Grades\")"
      ],
      "metadata": {
        "colab": {
          "base_uri": "https://localhost:8080/",
          "height": 312
        },
        "id": "9dn1YihY2Oox",
        "outputId": "cf572424-84e3-4279-bcf3-b1df05822b3a"
      },
      "execution_count": 48,
      "outputs": [
        {
          "output_type": "execute_result",
          "data": {
            "text/plain": [
              "Text(0, 0.5, 'Grades')"
            ]
          },
          "metadata": {},
          "execution_count": 48
        },
        {
          "output_type": "display_data",
          "data": {
            "image/png": "[encoded data removed]",
            "text/plain": [
              "<Figure size 432x288 with 1 Axes>"
            ]
          },
          "metadata": {
            "needs_background": "light"
          }
        }
      ]
    },
    {
      "cell_type": "code",
      "source": [
        "#Splitting the data into Training and Test Data:\n",
        "from sklearn.model_selection import train_test_split"
      ],
      "metadata": {
        "id": "-ts3latI2kSc"
      },
      "execution_count": 49,
      "outputs": []
    },
    {
      "cell_type": "code",
      "source": [
        "x_train,x_test,y_train,y_test=train_test_split(x,y,test_size=1/4,random_state=0)\n",
        "x_train= x_train.reshape(-1, 1)\n",
        "y_train= y_train.reshape(-1, 1)\n",
        "x_test = x_test.reshape(-1, 1)\n",
        "y_test=y_test.reshape(-1, 1)"
      ],
      "metadata": {
        "id": "iVS15ym33Fq7"
      },
      "execution_count": 50,
      "outputs": []
    },
    {
      "cell_type": "code",
      "source": [
        "print(x_train)"
      ],
      "metadata": {
        "colab": {
          "base_uri": "https://localhost:8080/"
        },
        "id": "kHOcDQZJ4tpZ",
        "outputId": "19fc5d1c-d1fa-45d7-dac5-978db4fdab10"
      },
      "execution_count": 51,
      "outputs": [
        {
          "output_type": "stream",
          "name": "stdout",
          "text": [
            "[[3.76 ]\n",
            " [3.6  ]\n",
            " [3.86 ]\n",
            " [3.5  ]\n",
            " [3.7  ]\n",
            " [3.63 ]\n",
            " [3.55 ]\n",
            " [3.6  ]\n",
            " [3.55 ]\n",
            " [3.35 ]\n",
            " [3.15 ]\n",
            " [3.868]\n",
            " [3.5  ]\n",
            " [3.83 ]\n",
            " [3.9  ]\n",
            " [3.5  ]\n",
            " [3.85 ]\n",
            " [3.559]\n",
            " [3.89 ]\n",
            " [3.1  ]\n",
            " [3.6  ]\n",
            " [3.3  ]\n",
            " [3.8  ]\n",
            " [3.69 ]\n",
            " [3.2  ]\n",
            " [3.7  ]\n",
            " [3.7  ]\n",
            " [4.   ]\n",
            " [3.45 ]\n",
            " [3.93 ]\n",
            " [3.25 ]\n",
            " [3.7  ]\n",
            " [2.6  ]\n",
            " [3.1  ]\n",
            " [3.3  ]\n",
            " [3.65 ]\n",
            " [3.875]\n",
            " [3.925]\n",
            " [3.1  ]\n",
            " [3.5  ]\n",
            " [3.84 ]\n",
            " [3.6  ]\n",
            " [2.85 ]\n",
            " [3.35 ]\n",
            " [3.8  ]\n",
            " [4.   ]\n",
            " [3.3  ]\n",
            " [3.9  ]\n",
            " [3.75 ]\n",
            " [3.866]\n",
            " [4.   ]\n",
            " [3.4  ]\n",
            " [3.8  ]\n",
            " [3.92 ]\n",
            " [3.8  ]\n",
            " [4.   ]\n",
            " [3.83 ]\n",
            " [3.6  ]\n",
            " [3.4  ]\n",
            " [3.2  ]\n",
            " [3.41 ]\n",
            " [3.9  ]\n",
            " [3.75 ]\n",
            " [3.5  ]\n",
            " [3.7  ]\n",
            " [3.35 ]\n",
            " [3.675]\n",
            " [3.2  ]\n",
            " [3.4  ]\n",
            " [3.1  ]\n",
            " [3.8  ]\n",
            " [3.75 ]\n",
            " [3.68 ]\n",
            " [3.8  ]\n",
            " [3.5  ]\n",
            " [3.75 ]\n",
            " [3.46 ]\n",
            " [3.7  ]\n",
            " [3.795]\n",
            " [3.68 ]\n",
            " [3.62 ]\n",
            " [3.25 ]\n",
            " [2.91 ]\n",
            " [3.4  ]\n",
            " [3.425]\n",
            " [3.3  ]\n",
            " [3.6  ]\n",
            " [3.4  ]\n",
            " [3.125]\n",
            " [3.82 ]\n",
            " [3.8  ]\n",
            " [3.7  ]\n",
            " [3.15 ]\n",
            " [3.6  ]\n",
            " [3.66 ]\n",
            " [3.925]\n",
            " [3.9  ]\n",
            " [3.7  ]\n",
            " [3.82 ]\n",
            " [3.3  ]\n",
            " [3.85 ]\n",
            " [3.5  ]\n",
            " [3.84 ]\n",
            " [3.3  ]\n",
            " [3.4  ]\n",
            " [3.9  ]\n",
            " [3.56 ]\n",
            " [3.   ]\n",
            " [3.022]\n",
            " [3.7  ]\n",
            " [3.8  ]\n",
            " [3.6  ]\n",
            " [3.86 ]\n",
            " [3.97 ]\n",
            " [3.97 ]\n",
            " [3.4  ]\n",
            " [3.6  ]\n",
            " [3.825]\n",
            " [4.3  ]\n",
            " [3.785]\n",
            " [3.925]\n",
            " [3.   ]\n",
            " [3.3  ]\n",
            " [3.566]\n",
            " [3.4  ]\n",
            " [3.2  ]\n",
            " [3.2  ]\n",
            " [3.84 ]\n",
            " [4.   ]\n",
            " [4.   ]\n",
            " [2.9  ]\n",
            " [4.   ]\n",
            " [3.97 ]\n",
            " [3.825]\n",
            " [3.7  ]\n",
            " [3.9  ]\n",
            " [3.6  ]\n",
            " [3.294]\n",
            " [3.75 ]\n",
            " [3.675]\n",
            " [3.5  ]\n",
            " [3.15 ]\n",
            " [3.7  ]\n",
            " [3.5  ]]\n"
          ]
        }
      ]
    },
    {
      "cell_type": "code",
      "source": [
        "print(y_train)"
      ],
      "metadata": {
        "colab": {
          "base_uri": "https://localhost:8080/"
        },
        "id": "ElOLNaSo4vWG",
        "outputId": "071b106a-cf58-4a83-82e9-f5930e085b41"
      },
      "execution_count": 52,
      "outputs": [
        {
          "output_type": "stream",
          "name": "stdout",
          "text": [
            "[[20.]\n",
            " [ 4.]\n",
            " [ 2.]\n",
            " [ 7.]\n",
            " [ 7.]\n",
            " [30.]\n",
            " [30.]\n",
            " [12.]\n",
            " [10.]\n",
            " [14.]\n",
            " [ 6.]\n",
            " [40.]\n",
            " [20.]\n",
            " [60.]\n",
            " [10.]\n",
            " [10.]\n",
            " [69.]\n",
            " [10.]\n",
            " [12.]\n",
            " [10.]\n",
            " [20.]\n",
            " [10.]\n",
            " [10.]\n",
            " [10.]\n",
            " [15.]\n",
            " [25.]\n",
            " [12.]\n",
            " [20.]\n",
            " [ 5.]\n",
            " [45.]\n",
            " [14.]\n",
            " [28.]\n",
            " [ 7.]\n",
            " [10.]\n",
            " [30.]\n",
            " [15.]\n",
            " [15.]\n",
            " [15.]\n",
            " [15.]\n",
            " [49.]\n",
            " [15.]\n",
            " [24.]\n",
            " [ 8.]\n",
            " [30.]\n",
            " [10.]\n",
            " [10.]\n",
            " [35.]\n",
            " [12.]\n",
            " [10.]\n",
            " [20.]\n",
            " [21.]\n",
            " [10.]\n",
            " [15.]\n",
            " [15.]\n",
            " [25.]\n",
            " [10.]\n",
            " [60.]\n",
            " [30.]\n",
            " [20.]\n",
            " [12.]\n",
            " [ 8.]\n",
            " [35.]\n",
            " [10.]\n",
            " [ 6.]\n",
            " [30.]\n",
            " [15.]\n",
            " [20.]\n",
            " [ 7.]\n",
            " [10.]\n",
            " [15.]\n",
            " [10.]\n",
            " [40.]\n",
            " [24.]\n",
            " [10.]\n",
            " [14.]\n",
            " [ 8.]\n",
            " [20.]\n",
            " [20.]\n",
            " [15.]\n",
            " [14.]\n",
            " [20.]\n",
            " [ 5.]\n",
            " [18.]\n",
            " [20.]\n",
            " [ 7.]\n",
            " [35.]\n",
            " [35.]\n",
            " [21.]\n",
            " [36.]\n",
            " [12.]\n",
            " [25.]\n",
            " [15.]\n",
            " [20.]\n",
            " [20.]\n",
            " [10.]\n",
            " [20.]\n",
            " [14.]\n",
            " [20.]\n",
            " [10.]\n",
            " [18.]\n",
            " [10.]\n",
            " [15.]\n",
            " [12.]\n",
            " [21.]\n",
            " [30.]\n",
            " [20.]\n",
            " [ 5.]\n",
            " [20.]\n",
            " [30.]\n",
            " [30.]\n",
            " [15.]\n",
            " [16.]\n",
            " [20.]\n",
            " [20.]\n",
            " [20.]\n",
            " [20.]\n",
            " [35.]\n",
            " [20.]\n",
            " [10.]\n",
            " [25.]\n",
            " [15.]\n",
            " [ 9.]\n",
            " [10.]\n",
            " [40.]\n",
            " [14.]\n",
            " [ 8.]\n",
            " [20.]\n",
            " [30.]\n",
            " [15.]\n",
            " [ 6.]\n",
            " [15.]\n",
            " [30.]\n",
            " [10.]\n",
            " [15.]\n",
            " [25.]\n",
            " [ 8.]\n",
            " [11.]\n",
            " [12.]\n",
            " [10.]\n",
            " [ 8.]\n",
            " [ 3.]\n",
            " [16.]\n",
            " [20.]\n",
            " [15.]]\n"
          ]
        }
      ]
    },
    {
      "cell_type": "code",
      "source": [
        "print(x_test)"
      ],
      "metadata": {
        "colab": {
          "base_uri": "https://localhost:8080/"
        },
        "id": "rCzJzQ0c4wlG",
        "outputId": "ebff55f0-9910-4610-ae08-d4120aea7cab"
      },
      "execution_count": 53,
      "outputs": [
        {
          "output_type": "stream",
          "name": "stdout",
          "text": [
            "[[3.16 ]\n",
            " [3.3  ]\n",
            " [3.4  ]\n",
            " [3.4  ]\n",
            " [3.5  ]\n",
            " [3.61 ]\n",
            " [3.8  ]\n",
            " [3.8  ]\n",
            " [3.55 ]\n",
            " [3.4  ]\n",
            " [3.52 ]\n",
            " [3.8  ]\n",
            " [3.79 ]\n",
            " [3.65 ]\n",
            " [3.6  ]\n",
            " [3.7  ]\n",
            " [3.65 ]\n",
            " [3.67 ]\n",
            " [3.2  ]\n",
            " [3.75 ]\n",
            " [3.567]\n",
            " [3.4  ]\n",
            " [3.733]\n",
            " [3.6  ]\n",
            " [3.2  ]\n",
            " [3.3  ]\n",
            " [3.925]\n",
            " [3.7  ]\n",
            " [3.6  ]\n",
            " [3.45 ]\n",
            " [3.5  ]\n",
            " [3.2  ]\n",
            " [3.925]\n",
            " [3.1  ]\n",
            " [3.8  ]\n",
            " [3.825]\n",
            " [3.7  ]\n",
            " [3.9  ]\n",
            " [3.3  ]\n",
            " [3.3  ]\n",
            " [3.7  ]\n",
            " [4.   ]\n",
            " [3.6  ]\n",
            " [2.95 ]\n",
            " [3.8  ]\n",
            " [3.7  ]\n",
            " [3.5  ]\n",
            " [4.   ]\n",
            " [3.4  ]]\n"
          ]
        }
      ]
    },
    {
      "cell_type": "code",
      "source": [
        "print(y_test)"
      ],
      "metadata": {
        "colab": {
          "base_uri": "https://localhost:8080/"
        },
        "id": "cujIxLjz4x0g",
        "outputId": "be111745-9cc3-4d16-e4ea-f3bb51564052"
      },
      "execution_count": 54,
      "outputs": [
        {
          "output_type": "stream",
          "name": "stdout",
          "text": [
            "[[24. ]\n",
            " [10. ]\n",
            " [10. ]\n",
            " [ 4. ]\n",
            " [14. ]\n",
            " [10. ]\n",
            " [ 8. ]\n",
            " [28. ]\n",
            " [15. ]\n",
            " [40. ]\n",
            " [10. ]\n",
            " [20. ]\n",
            " [25. ]\n",
            " [20. ]\n",
            " [10. ]\n",
            " [25. ]\n",
            " [25. ]\n",
            " [10. ]\n",
            " [20. ]\n",
            " [15. ]\n",
            " [14. ]\n",
            " [ 3. ]\n",
            " [14. ]\n",
            " [ 8. ]\n",
            " [15. ]\n",
            " [ 8. ]\n",
            " [ 7. ]\n",
            " [ 6. ]\n",
            " [10. ]\n",
            " [14. ]\n",
            " [30. ]\n",
            " [ 4. ]\n",
            " [ 5. ]\n",
            " [ 5. ]\n",
            " [12. ]\n",
            " [60. ]\n",
            " [10. ]\n",
            " [ 8. ]\n",
            " [10. ]\n",
            " [12.5]\n",
            " [10. ]\n",
            " [20. ]\n",
            " [40. ]\n",
            " [ 6.5]\n",
            " [10. ]\n",
            " [45. ]\n",
            " [10. ]\n",
            " [10. ]\n",
            " [ 7. ]]\n"
          ]
        }
      ]
    },
    {
      "cell_type": "code",
      "source": [
        "print(x.shape)\n",
        "print(y.shape)\n",
        "print('Train - Predictors shape', x_train.shape)\n",
        "print('Test - Predictors shape', x_test.shape)\n",
        "print('Train - Target shape', y_train.shape)\n",
        "print('Test - Target shape', y_test.shape)"
      ],
      "metadata": {
        "colab": {
          "base_uri": "https://localhost:8080/"
        },
        "id": "Bic35ax4CrPh",
        "outputId": "8b833a38-93b5-4c05-cd5e-16bb64684a2f"
      },
      "execution_count": 55,
      "outputs": [
        {
          "output_type": "stream",
          "name": "stdout",
          "text": [
            "(193,)\n",
            "(193,)\n",
            "Train - Predictors shape (144, 1)\n",
            "Test - Predictors shape (49, 1)\n",
            "Train - Target shape (144, 1)\n",
            "Test - Target shape (49, 1)\n"
          ]
        }
      ]
    },
    {
      "cell_type": "code",
      "source": [
        "from sklearn.linear_model import LinearRegression\n",
        "Regression=LinearRegression()\n",
        "Regression.fit(x_train,y_train)"
      ],
      "metadata": {
        "colab": {
          "base_uri": "https://localhost:8080/"
        },
        "id": "zmRyJPig4zpB",
        "outputId": "14e05486-afb6-4a59-974e-7d9c96373410"
      },
      "execution_count": 56,
      "outputs": [
        {
          "output_type": "execute_result",
          "data": {
            "text/plain": [
              "LinearRegression()"
            ]
          },
          "metadata": {},
          "execution_count": 56
        }
      ]
    },
    {
      "cell_type": "code",
      "source": [
        "print(Regression.predict([[6.22]]))"
      ],
      "metadata": {
        "colab": {
          "base_uri": "https://localhost:8080/"
        },
        "id": "o6tYMebO5map",
        "outputId": "26a869a1-d992-4500-ce44-4bc72003a3a1"
      },
      "execution_count": 58,
      "outputs": [
        {
          "output_type": "stream",
          "name": "stdout",
          "text": [
            "[[29.89469564]]\n"
          ]
        }
      ]
    },
    {
      "cell_type": "code",
      "source": [
        "y_pre=Regression.predict(x_test)\n",
        "print(y_pre)"
      ],
      "metadata": {
        "colab": {
          "base_uri": "https://localhost:8080/"
        },
        "id": "w0TcySXnEQt6",
        "outputId": "cd59b24d-53fd-47fc-bed2-5ca3fb26b864"
      },
      "execution_count": 61,
      "outputs": [
        {
          "output_type": "stream",
          "name": "stdout",
          "text": [
            "[[16.24032299]\n",
            " [16.86503285]\n",
            " [17.31125418]\n",
            " [17.31125418]\n",
            " [17.75747551]\n",
            " [18.24831897]\n",
            " [19.0961395 ]\n",
            " [19.0961395 ]\n",
            " [17.98058618]\n",
            " [17.31125418]\n",
            " [17.84671978]\n",
            " [19.0961395 ]\n",
            " [19.05151736]\n",
            " [18.4268075 ]\n",
            " [18.20369684]\n",
            " [18.64991817]\n",
            " [18.4268075 ]\n",
            " [18.51605177]\n",
            " [16.41881153]\n",
            " [18.87302883]\n",
            " [18.0564438 ]\n",
            " [17.31125418]\n",
            " [18.79717121]\n",
            " [18.20369684]\n",
            " [16.41881153]\n",
            " [16.86503285]\n",
            " [19.65391616]\n",
            " [18.64991817]\n",
            " [18.20369684]\n",
            " [17.53436485]\n",
            " [17.75747551]\n",
            " [16.41881153]\n",
            " [19.65391616]\n",
            " [15.9725902 ]\n",
            " [19.0961395 ]\n",
            " [19.20769483]\n",
            " [18.64991817]\n",
            " [19.54236082]\n",
            " [16.86503285]\n",
            " [16.86503285]\n",
            " [18.64991817]\n",
            " [19.98858215]\n",
            " [18.20369684]\n",
            " [15.30325821]\n",
            " [19.0961395 ]\n",
            " [18.64991817]\n",
            " [17.75747551]\n",
            " [19.98858215]\n",
            " [17.31125418]]\n"
          ]
        }
      ]
    },
    {
      "cell_type": "code",
      "source": [
        "from sklearn.metrics import r2_score\n",
        "rscore=r2_score(y_test,y_pre)\n",
        "print(rscore)"
      ],
      "metadata": {
        "colab": {
          "base_uri": "https://localhost:8080/"
        },
        "id": "09F5tWFaE59k",
        "outputId": "701a8fc5-febe-4e22-c98e-348ed95ca1b1"
      },
      "execution_count": 62,
      "outputs": [
        {
          "output_type": "stream",
          "name": "stdout",
          "text": [
            "-0.02753176552366443\n"
          ]
        }
      ]
    },
    {
      "cell_type": "code",
      "source": [
        ""
      ],
      "metadata": {
        "id": "rfihI9wCFOzo"
      },
      "execution_count": null,
      "outputs": []
    }
  ]
}